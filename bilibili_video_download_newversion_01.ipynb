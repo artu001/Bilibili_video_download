{
 "cells": [
  {
   "cell_type": "code",
   "execution_count": 1,
   "metadata": {},
   "outputs": [],
   "source": [
    "import requests, time, hashlib, urllib.request, re\n",
    "from moviepy.editor import *\n",
    "import os, sys"
   ]
  },
  {
   "cell_type": "markdown",
   "metadata": {},
   "source": [
    "## 访问API地址"
   ]
  },
  {
   "cell_type": "code",
   "execution_count": 2,
   "metadata": {},
   "outputs": [],
   "source": [
    "# 访问API地址\n",
    "def get_play_list(start_url, cid, quality):\n",
    "    entropy = 'rbMCKn@KuamXWlPMoJGsKcbiJKUfkPF_8dABscJntvqhRSETg'\n",
    "    appkey, sec = ''.join([chr(ord(i) + 2) for i in entropy[::-1]]).split(':')\n",
    "    params = 'appkey=%s&cid=%s&otype=json&qn=%s&quality=%s&type=' % (appkey, cid, quality, quality)\n",
    "    chksum = hashlib.md5(bytes(params + sec, 'utf8')).hexdigest()\n",
    "    url_api = 'https://interface.bilibili.com/v2/playurl?%s&sign=%s' % (params, chksum)\n",
    "    headers = {\n",
    "        'Referer': start_url,  # 注意加上referer\n",
    "        'User-Agent': 'Mozilla/5.0 (Windows NT 6.1; WOW64) AppleWebKit/537.36 (KHTML, like Gecko) Chrome/55.0.2883.87 Safari/537.36'\n",
    "    }\n",
    "    # print(url_api)\n",
    "    html = requests.get(url_api, headers=headers).json()\n",
    "    # print(json.dumps(html))\n",
    "    video_list = [html['durl'][0]['url']]\n",
    "    # print(video_list)\n",
    "    return video_list"
   ]
  },
  {
   "cell_type": "markdown",
   "metadata": {},
   "source": [
    "## 下载视频"
   ]
  },
  {
   "cell_type": "code",
   "execution_count": 4,
   "metadata": {},
   "outputs": [],
   "source": [
    "# 下载视频\n",
    "def Schedule_cmd(blocknum, blocksize, totalsize):\n",
    "    speed = (blocknum * blocksize) / (time.time() - start_time)\n",
    "    # speed_str = \" Speed: %.2f\" % speed\n",
    "    speed_str = \" Speed: %s\" % format_size(speed)\n",
    "    recv_size = blocknum * blocksize\n",
    "\n",
    "    # 设置下载进度条\n",
    "    f = sys.stdout\n",
    "    pervent = recv_size / totalsize\n",
    "    percent_str = \"%.2f%%\" % (pervent * 100)\n",
    "    n = round(pervent * 50)\n",
    "    s = ('#' * n).ljust(50, '-')\n",
    "    f.write(percent_str.ljust(8, ' ') + '[' + s + ']' + speed_str)\n",
    "    f.flush()\n",
    "    # time.sleep(0.1)\n",
    "    f.write('\\r')"
   ]
  },
  {
   "cell_type": "markdown",
   "metadata": {},
   "source": [
    "## 设置下载进度条"
   ]
  },
  {
   "cell_type": "code",
   "execution_count": 5,
   "metadata": {},
   "outputs": [],
   "source": [
    "def Schedule(blocknum, blocksize, totalsize):\n",
    "    speed = (blocknum * blocksize) / (time.time() - start_time)\n",
    "    # speed_str = \" Speed: %.2f\" % speed\n",
    "    speed_str = \" Speed: %s\" % format_size(speed)\n",
    "    recv_size = blocknum * blocksize\n",
    "\n",
    "    # 设置下载进度条\n",
    "    f = sys.stdout\n",
    "    pervent = recv_size / totalsize\n",
    "    percent_str = \"%.2f%%\" % (pervent * 100)\n",
    "    n = round(pervent * 50)\n",
    "    s = ('#' * n).ljust(50, '-')\n",
    "    print(percent_str.ljust(6, ' ') + '-' + speed_str)\n",
    "    f.flush()\n",
    "    time.sleep(2)\n",
    "    # print('\\r')"
   ]
  },
  {
   "cell_type": "markdown",
   "metadata": {},
   "source": [
    "## 字节bytes转化K\\M\\G"
   ]
  },
  {
   "cell_type": "code",
   "execution_count": 6,
   "metadata": {},
   "outputs": [],
   "source": [
    "# 字节bytes转化K\\M\\G\n",
    "def format_size(bytes):\n",
    "    try:\n",
    "        bytes = float(bytes)\n",
    "        kb = bytes / 1024\n",
    "    except:\n",
    "        print(\"传入的字节格式不对\")\n",
    "        return \"Error\"\n",
    "    if kb >= 1024:\n",
    "        M = kb / 1024\n",
    "        if M >= 1024:\n",
    "            G = M / 1024\n",
    "            return \"%.3fG\" % (G)\n",
    "        else:\n",
    "            return \"%.3fM\" % (M)\n",
    "    else:\n",
    "        return \"%.3fK\" % (kb)"
   ]
  },
  {
   "cell_type": "markdown",
   "metadata": {},
   "source": [
    "##  下载视频"
   ]
  },
  {
   "cell_type": "code",
   "execution_count": 7,
   "metadata": {},
   "outputs": [],
   "source": [
    "#  下载视频\n",
    "def down_video(video_list, title, start_url, page):\n",
    "    num = 1\n",
    "    print('[正在下载P{}段视频,请稍等...]:'.format(page) + title)\n",
    "    currentVideoPath = os.path.join(sys.path[0], 'bilibili_video', title)  # 当前目录作为下载目录\n",
    "    for i in video_list:\n",
    "        opener = urllib.request.build_opener()\n",
    "        # 请求头\n",
    "        opener.addheaders = [\n",
    "            # ('Host', 'upos-hz-mirrorks3.acgvideo.com'),  #注意修改host,不用也行\n",
    "            ('User-Agent', 'Mozilla/5.0 (Macintosh; Intel Mac OS X 10.13; rv:56.0) Gecko/20100101 Firefox/56.0'),\n",
    "            ('Accept', '*/*'),\n",
    "            ('Accept-Language', 'en-US,en;q=0.5'),\n",
    "            ('Accept-Encoding', 'gzip, deflate, br'),\n",
    "            ('Range', 'bytes=0-'),  # Range 的值要为 bytes=0- 才能下载完整视频\n",
    "            ('Referer', start_url),  # 注意修改referer,必须要加的!\n",
    "            ('Origin', 'https://www.bilibili.com'),\n",
    "            ('Connection', 'keep-alive'),\n",
    "        ]\n",
    "        urllib.request.install_opener(opener)\n",
    "        # 创建文件夹存放下载的视频\n",
    "        if not os.path.exists(currentVideoPath):\n",
    "            os.makedirs(currentVideoPath)\n",
    "        # 开始下载\n",
    "        if len(video_list) > 1:\n",
    "            urllib.request.urlretrieve(url=i, filename=os.path.join(currentVideoPath, r'{}-{}.flv'.format(title, num)),reporthook=Schedule_cmd)  # 写成mp4也行  title + '-' + num + '.flv'\n",
    "        else:\n",
    "            urllib.request.urlretrieve(url=i, filename=os.path.join(currentVideoPath, r'{}.flv'.format(title)),reporthook=Schedule_cmd)  # 写成mp4也行  title + '-' + num + '.flv'\n",
    "        num += 1"
   ]
  },
  {
   "cell_type": "markdown",
   "metadata": {},
   "source": [
    "## 合并视频"
   ]
  },
  {
   "cell_type": "code",
   "execution_count": 8,
   "metadata": {},
   "outputs": [],
   "source": [
    "# 合并视频\n",
    "def combine_video(video_list, title):\n",
    "    currentVideoPath = os.path.join(sys.path[0], 'bilibili_video', title)  # 当前目录作为下载目录\n",
    "    if len(video_list) >= 2:\n",
    "        # 视频大于一段才要合并\n",
    "        print('[下载完成,正在合并视频...]:' + title)\n",
    "        # 定义一个数组\n",
    "        L = []\n",
    "        # 访问 video 文件夹 (假设视频都放在这里面)\n",
    "        root_dir = currentVideoPath\n",
    "        # 遍历所有文件\n",
    "        for file in sorted(os.listdir(root_dir), key=lambda x: int(x[x.rindex(\"-\") + 1:x.rindex(\".\")])):\n",
    "            # 如果后缀名为 .mp4/.flv\n",
    "            if os.path.splitext(file)[1] == '.flv':\n",
    "                # 拼接成完整路径\n",
    "                filePath = os.path.join(root_dir, file)\n",
    "                # 载入视频\n",
    "                video = VideoFileClip(filePath)\n",
    "                # 添加到数组\n",
    "                L.append(video)\n",
    "        # 拼接视频\n",
    "        final_clip = concatenate_videoclips(L)\n",
    "        # 生成目标视频文件\n",
    "        final_clip.to_videofile(os.path.join(root_dir, r'{}.mp4'.format(title)), fps=24, remove_temp=False)\n",
    "        print('[视频合并完成]' + title)\n",
    "\n",
    "    else:\n",
    "        # 视频只有一段则直接打印下载完成\n",
    "        print('[视频合并完成]:' + title)"
   ]
  },
  {
   "cell_type": "markdown",
   "metadata": {},
   "source": [
    "## 主程序  =====下载过程中，最好页面登陆账户"
   ]
  },
  {
   "cell_type": "code",
   "execution_count": null,
   "metadata": {},
   "outputs": [],
   "source": [
    "if __name__ == '__main__':\n",
    "    # 用户输入av号或者视频链接地址\n",
    "    print('*' * 30 + 'B站视频下载小助手' + '*' * 30)\n",
    "    start = input('请输入您要下载的B站av号或者视频链接地址:')\n",
    "    if start.isdigit() == True:  # 如果输入的是av号\n",
    "        start_url = 'https://api.bilibili.com/x/web-interface/view?aid=' + start\n",
    "    else:\n",
    "        # https://www.bilibili.com/video/av46958874/?spm_id_from=333.334.b_63686965665f7265636f6d6d656e64.16\n",
    "        start_url = 'https://api.bilibili.com/x/web-interface/view?aid=' + re.search(r'/av(\\d+)/*', start).group(1)\n",
    "\n",
    "    # 视频质量\n",
    "    # <accept_format><![CDATA[flv,flv720,flv480,flv360]]></accept_format>\n",
    "    # <accept_description><![CDATA[高清 1080P,高清 720P,清晰 480P,流畅 360P]]></accept_description>\n",
    "    # <accept_quality><![CDATA[80,64,32,15]]></accept_quality>\n",
    "    quality = input('请输入您要下载视频的清晰度(1080p:80;720p:64;480p:32;360p:15)(填写80或64或32或15):')\n",
    "    page_begin= input('请输入您要下载视频的开始p:')\n",
    "    page_end= input('请输入您要下载视频的结束p:')\n",
    "\n",
    "    # 获取视频的cid,title\n",
    "    headers = {\n",
    "        'User-Agent': 'Mozilla/5.0 (Windows NT 6.1; WOW64) AppleWebKit/537.36 (KHTML, like Gecko) Chrome/55.0.2883.87 Safari/537.36'\n",
    "    }\n",
    "\n",
    "    html = requests.get(start_url, headers=headers).json()\n",
    "    data = html['data']\n",
    "    cid_list = data['pages']\n",
    "    for item in cid_list:\n",
    "        cid = str(item['cid'])\n",
    "        title = item['part']\n",
    "        title = re.sub(r'[\\/\\\\:*?\"<>|]', '', title)  # 替换为空的\n",
    "        print('[下载视频的cid]:' + cid)\n",
    "        print('[下载视频的标题]:' + title)\n",
    "        page = str(item['page'])\n",
    "        if int(page) < int(page_begin):\n",
    "            continue\n",
    "        if int(page) > int(page_end):\n",
    "            break        \n",
    "        start_url = start_url + \"/?p=\" + page\n",
    "        video_list = get_play_list(start_url, cid, quality)\n",
    "        start_time = time.time()\n",
    "        down_video(video_list, title, start_url, page)\n",
    "        combine_video(video_list, title)\n",
    "\n",
    "    # 如果是windows系统，下载完成后打开下载目录\n",
    "    currentVideoPath = os.path.join(sys.path[0], 'bilibili_video')  # 当前目录作为下载目录\n",
    "    if (sys.platform.startswith('win')):\n",
    "        os.startfile(currentVideoPath)"
   ]
  },
  {
   "cell_type": "code",
   "execution_count": null,
   "metadata": {},
   "outputs": [],
   "source": []
  }
 ],
 "metadata": {
  "kernelspec": {
   "display_name": "Python [conda env:py36]",
   "language": "python",
   "name": "conda-env-py36-py"
  },
  "language_info": {
   "codemirror_mode": {
    "name": "ipython",
    "version": 3
   },
   "file_extension": ".py",
   "mimetype": "text/x-python",
   "name": "python",
   "nbconvert_exporter": "python",
   "pygments_lexer": "ipython3",
   "version": "3.6.2"
  }
 },
 "nbformat": 4,
 "nbformat_minor": 2
}
